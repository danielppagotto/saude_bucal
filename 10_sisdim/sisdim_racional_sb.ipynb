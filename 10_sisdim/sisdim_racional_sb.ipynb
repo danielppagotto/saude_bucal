{
  "cells": [
    {
      "cell_type": "markdown",
      "metadata": {
        "id": "aNvENdBa_jfz"
      },
      "source": [
        "# Saúde Bucal\n",
        "\n",
        "## Acessando a população (P)\n",
        "\n",
        "Acessando os dados de população por UF e faixa etária.\n"
      ]
    },
    {
      "cell_type": "code",
      "execution_count": 14,
      "metadata": {
        "id": "Hqu1903W_j-g"
      },
      "outputs": [
        {
          "data": {
            "application/vnd.microsoft.datawrangler.viewer.v0+json": {
              "columns": [
                {
                  "name": "index",
                  "rawType": "int64",
                  "type": "integer"
                },
                {
                  "name": "cod_uf",
                  "rawType": "int64",
                  "type": "integer"
                },
                {
                  "name": "uf",
                  "rawType": "object",
                  "type": "string"
                },
                {
                  "name": "ano",
                  "rawType": "int64",
                  "type": "integer"
                },
                {
                  "name": "faixa_etaria",
                  "rawType": "object",
                  "type": "string"
                },
                {
                  "name": "total",
                  "rawType": "int64",
                  "type": "integer"
                },
                {
                  "name": "id_faixa_etaria",
                  "rawType": "int64",
                  "type": "integer"
                }
              ],
              "ref": "96b9b93a-fb12-461f-a0d0-5d188b2762de",
              "rows": [
                [
                  "0",
                  "11",
                  "RO",
                  "2015",
                  "00 a 14 anos",
                  "423499",
                  "1"
                ],
                [
                  "1",
                  "11",
                  "RO",
                  "2015",
                  "15 a 29 anos",
                  "450718",
                  "2"
                ],
                [
                  "2",
                  "11",
                  "RO",
                  "2015",
                  "30 a 59 anos",
                  "648101",
                  "3"
                ],
                [
                  "3",
                  "11",
                  "RO",
                  "2015",
                  "60 anos ou mais",
                  "144588",
                  "4"
                ],
                [
                  "4",
                  "11",
                  "RO",
                  "2016",
                  "00 a 14 anos",
                  "418981",
                  "1"
                ]
              ],
              "shape": {
                "columns": 6,
                "rows": 5
              }
            },
            "text/html": [
              "<div>\n",
              "<style scoped>\n",
              "    .dataframe tbody tr th:only-of-type {\n",
              "        vertical-align: middle;\n",
              "    }\n",
              "\n",
              "    .dataframe tbody tr th {\n",
              "        vertical-align: top;\n",
              "    }\n",
              "\n",
              "    .dataframe thead th {\n",
              "        text-align: right;\n",
              "    }\n",
              "</style>\n",
              "<table border=\"1\" class=\"dataframe\">\n",
              "  <thead>\n",
              "    <tr style=\"text-align: right;\">\n",
              "      <th></th>\n",
              "      <th>cod_uf</th>\n",
              "      <th>uf</th>\n",
              "      <th>ano</th>\n",
              "      <th>faixa_etaria</th>\n",
              "      <th>total</th>\n",
              "      <th>id_faixa_etaria</th>\n",
              "    </tr>\n",
              "  </thead>\n",
              "  <tbody>\n",
              "    <tr>\n",
              "      <th>0</th>\n",
              "      <td>11</td>\n",
              "      <td>RO</td>\n",
              "      <td>2015</td>\n",
              "      <td>00 a 14 anos</td>\n",
              "      <td>423499</td>\n",
              "      <td>1</td>\n",
              "    </tr>\n",
              "    <tr>\n",
              "      <th>1</th>\n",
              "      <td>11</td>\n",
              "      <td>RO</td>\n",
              "      <td>2015</td>\n",
              "      <td>15 a 29 anos</td>\n",
              "      <td>450718</td>\n",
              "      <td>2</td>\n",
              "    </tr>\n",
              "    <tr>\n",
              "      <th>2</th>\n",
              "      <td>11</td>\n",
              "      <td>RO</td>\n",
              "      <td>2015</td>\n",
              "      <td>30 a 59 anos</td>\n",
              "      <td>648101</td>\n",
              "      <td>3</td>\n",
              "    </tr>\n",
              "    <tr>\n",
              "      <th>3</th>\n",
              "      <td>11</td>\n",
              "      <td>RO</td>\n",
              "      <td>2015</td>\n",
              "      <td>60 anos ou mais</td>\n",
              "      <td>144588</td>\n",
              "      <td>4</td>\n",
              "    </tr>\n",
              "    <tr>\n",
              "      <th>4</th>\n",
              "      <td>11</td>\n",
              "      <td>RO</td>\n",
              "      <td>2016</td>\n",
              "      <td>00 a 14 anos</td>\n",
              "      <td>418981</td>\n",
              "      <td>1</td>\n",
              "    </tr>\n",
              "  </tbody>\n",
              "</table>\n",
              "</div>"
            ],
            "text/plain": [
              "   cod_uf  uf   ano     faixa_etaria   total  id_faixa_etaria\n",
              "0      11  RO  2015     00 a 14 anos  423499                1\n",
              "1      11  RO  2015     15 a 29 anos  450718                2\n",
              "2      11  RO  2015     30 a 59 anos  648101                3\n",
              "3      11  RO  2015  60 anos ou mais  144588                4\n",
              "4      11  RO  2016     00 a 14 anos  418981                1"
            ]
          },
          "execution_count": 14,
          "metadata": {},
          "output_type": "execute_result"
        }
      ],
      "source": [
        "import pandas as pd\n",
        "import matplotlib.pyplot as plt\n",
        "import seaborn as sns\n",
        "import matplotlib.ticker as mtick\n",
        "\n",
        "projecoes_tratadas = (\n",
        "    pd.read_excel(\"projecoes_tratadas.xlsx\")\n",
        "    .assign(\n",
        "        id_faixa_etaria=lambda d: d[\"faixa_etaria\"].map({\n",
        "            \"00 a 14 anos\": 1,\n",
        "            \"15 a 29 anos\": 2,\n",
        "            \"30 a 59 anos\": 3,\n",
        "            \"60 anos ou mais\": 4\n",
        "        })\n",
        "    )\n",
        ")\n",
        "projecoes_tratadas.head()\n"
      ]
    },
    {
      "cell_type": "markdown",
      "metadata": {
        "id": "Ne2grHui_oHA"
      },
      "source": [
        "O gráfico abaixo mostra a evolução do quantitativo por faixa etária e UF.\n",
        "Filtramos apenas as UF do Centro-Oeste.\n"
      ]
    },
    {
      "cell_type": "code",
      "execution_count": 15,
      "metadata": {
        "colab": {
          "base_uri": "https://localhost:8080/",
          "height": 565
        },
        "id": "bNxPx5PD_pq1",
        "outputId": "13690b06-19fa-4dd4-ed5b-0e566484a2da"
      },
      "outputs": [
        {
          "data": {
            "image/png": "[encoded data removed]",
            "text/plain": [
              "<Figure size 964.125x400 with 1 Axes>"
            ]
          },
          "metadata": {},
          "output_type": "display_data"
        }
      ],
      "source": [
        "\n",
        "df_filtrado = projecoes_tratadas.loc[(projecoes_tratadas['uf'] == 'GO')]\n",
        "\n",
        "df_plot = (\n",
        "    df_filtrado\n",
        "    .groupby(['ano', 'uf', 'faixa_etaria'], as_index=False)\n",
        "    .agg({'total': 'sum'})\n",
        ")\n",
        "\n",
        "g = sns.FacetGrid(df_plot, col=\"uf\", col_wrap=2, sharex=False, sharey=True, height=4)\n",
        "g.map_dataframe(sns.lineplot, x=\"ano\", y=\"total\", hue=\"faixa_etaria\", palette=\"tab10\")\n",
        "g.add_legend(title=\"Faixa Etária\")\n",
        "g.set_axis_labels(\"Ano\", \"Total\")\n",
        "g.set_titles(\"{col_name}\")\n",
        "\n",
        "for ax in g.axes.flatten():\n",
        "    ax.yaxis.set_major_formatter(mtick.ScalarFormatter(useOffset=False))\n",
        "    ax.ticklabel_format(style='plain', axis='y') \n",
        "\n",
        "plt.show()\n"
      ]
    },
    {
      "cell_type": "markdown",
      "metadata": {
        "id": "cMlUDcy-_sNj"
      },
      "source": [
        "## Acessando a prevalência de condições (H)\n",
        "\n",
        "Primeiramente, acessamos a prevalência de condições de saúde bucal (H).\n",
        "\n",
        "#### Atenção!! É muito importante que a prevalência (cobertura) seja consumida, por default, desta base. Porém, o usuário pode ajustar. \n"
      ]
    },
    {
      "cell_type": "code",
      "execution_count": 16,
      "metadata": {
        "colab": {
          "base_uri": "https://localhost:8080/",
          "height": 206
        },
        "id": "fmF9mu-i_uAo",
        "outputId": "62e6c3eb-3f23-4452-da0f-f9a240f198b6"
      },
      "outputs": [
        {
          "data": {
            "application/vnd.microsoft.datawrangler.viewer.v0+json": {
              "columns": [
                {
                  "name": "index",
                  "rawType": "int64",
                  "type": "integer"
                },
                {
                  "name": "UF",
                  "rawType": "object",
                  "type": "string"
                },
                {
                  "name": "cod_uf",
                  "rawType": "int64",
                  "type": "integer"
                },
                {
                  "name": "cod_faixa",
                  "rawType": "int64",
                  "type": "integer"
                },
                {
                  "name": "perc_necessidade",
                  "rawType": "float64",
                  "type": "float"
                },
                {
                  "name": "tipo_procedimento",
                  "rawType": "object",
                  "type": "string"
                },
                {
                  "name": "cod_procedimento",
                  "rawType": "int64",
                  "type": "integer"
                }
              ],
              "ref": "fd0a8938-82c4-421f-942b-cb6abd3334c1",
              "rows": [
                [
                  "0",
                  "Acre",
                  "12",
                  "1",
                  "0.6000489999999999",
                  "APS",
                  "3"
                ],
                [
                  "1",
                  "Acre",
                  "12",
                  "2",
                  "0.738244",
                  "APS",
                  "3"
                ],
                [
                  "2",
                  "Acre",
                  "12",
                  "3",
                  "0.7164490000000001",
                  "APS",
                  "3"
                ],
                [
                  "3",
                  "Acre",
                  "12",
                  "4",
                  "0.326133",
                  "APS",
                  "3"
                ],
                [
                  "4",
                  "Alagoas",
                  "27",
                  "1",
                  "0.47255",
                  "APS",
                  "3"
                ]
              ],
              "shape": {
                "columns": 6,
                "rows": 5
              }
            },
            "text/html": [
              "<div>\n",
              "<style scoped>\n",
              "    .dataframe tbody tr th:only-of-type {\n",
              "        vertical-align: middle;\n",
              "    }\n",
              "\n",
              "    .dataframe tbody tr th {\n",
              "        vertical-align: top;\n",
              "    }\n",
              "\n",
              "    .dataframe thead th {\n",
              "        text-align: right;\n",
              "    }\n",
              "</style>\n",
              "<table border=\"1\" class=\"dataframe\">\n",
              "  <thead>\n",
              "    <tr style=\"text-align: right;\">\n",
              "      <th></th>\n",
              "      <th>UF</th>\n",
              "      <th>cod_uf</th>\n",
              "      <th>cod_faixa</th>\n",
              "      <th>perc_necessidade</th>\n",
              "      <th>tipo_procedimento</th>\n",
              "      <th>cod_procedimento</th>\n",
              "    </tr>\n",
              "  </thead>\n",
              "  <tbody>\n",
              "    <tr>\n",
              "      <th>0</th>\n",
              "      <td>Acre</td>\n",
              "      <td>12</td>\n",
              "      <td>1</td>\n",
              "      <td>0.600049</td>\n",
              "      <td>APS</td>\n",
              "      <td>3</td>\n",
              "    </tr>\n",
              "    <tr>\n",
              "      <th>1</th>\n",
              "      <td>Acre</td>\n",
              "      <td>12</td>\n",
              "      <td>2</td>\n",
              "      <td>0.738244</td>\n",
              "      <td>APS</td>\n",
              "      <td>3</td>\n",
              "    </tr>\n",
              "    <tr>\n",
              "      <th>2</th>\n",
              "      <td>Acre</td>\n",
              "      <td>12</td>\n",
              "      <td>3</td>\n",
              "      <td>0.716449</td>\n",
              "      <td>APS</td>\n",
              "      <td>3</td>\n",
              "    </tr>\n",
              "    <tr>\n",
              "      <th>3</th>\n",
              "      <td>Acre</td>\n",
              "      <td>12</td>\n",
              "      <td>4</td>\n",
              "      <td>0.326133</td>\n",
              "      <td>APS</td>\n",
              "      <td>3</td>\n",
              "    </tr>\n",
              "    <tr>\n",
              "      <th>4</th>\n",
              "      <td>Alagoas</td>\n",
              "      <td>27</td>\n",
              "      <td>1</td>\n",
              "      <td>0.472550</td>\n",
              "      <td>APS</td>\n",
              "      <td>3</td>\n",
              "    </tr>\n",
              "  </tbody>\n",
              "</table>\n",
              "</div>"
            ],
            "text/plain": [
              "        UF  cod_uf  cod_faixa  perc_necessidade tipo_procedimento  \\\n",
              "0     Acre      12          1          0.600049               APS   \n",
              "1     Acre      12          2          0.738244               APS   \n",
              "2     Acre      12          3          0.716449               APS   \n",
              "3     Acre      12          4          0.326133               APS   \n",
              "4  Alagoas      27          1          0.472550               APS   \n",
              "\n",
              "   cod_procedimento  \n",
              "0                 3  \n",
              "1                 3  \n",
              "2                 3  \n",
              "3                 3  \n",
              "4                 3  "
            ]
          },
          "execution_count": 16,
          "metadata": {},
          "output_type": "execute_result"
        }
      ],
      "source": [
        "cobertura = pd.read_csv(\"merge_sb_cobertura.csv\")\n",
        "\n",
        "cobertura_sb = (\n",
        "    cobertura\n",
        "    .drop(columns=[\"Unnamed: 0\", \"total_populacao\", \"faixa_etaria\",\n",
        "                   \"erro_padrao\", \"IC_inf\", \"IC_sup\"])\n",
        "    .assign(\n",
        "        perc_necessidade=lambda d: d[\"perc_necessidade\"] / 100,\n",
        "        cod_procedimento=lambda d: d[\"tipo_procedimento\"].map({\n",
        "            \"Endodontia\": 1,\n",
        "            \"Periodontia\": 2,\n",
        "            \"APS\": 3,\n",
        "            \"Prótese\": 4\n",
        "        })\n",
        "    )\n",
        ")\n",
        "cobertura_sb.head()\n"
      ]
    },
    {
      "cell_type": "markdown",
      "metadata": {
        "id": "AS5o4DFB_xls"
      },
      "source": [
        "O próximo passo consiste em juntar a base de população com a cobertura.\n",
        "\n",
        "\n"
      ]
    },
    {
      "cell_type": "code",
      "execution_count": 17,
      "metadata": {
        "colab": {
          "base_uri": "https://localhost:8080/",
          "height": 226
        },
        "id": "HAXuLom8_zaY",
        "outputId": "39e2d94f-a5e5-4708-bdf9-e3388c60fcb2"
      },
      "outputs": [
        {
          "data": {
            "application/vnd.microsoft.datawrangler.viewer.v0+json": {
              "columns": [
                {
                  "name": "index",
                  "rawType": "int64",
                  "type": "integer"
                },
                {
                  "name": "cod_uf",
                  "rawType": "int64",
                  "type": "integer"
                },
                {
                  "name": "uf",
                  "rawType": "object",
                  "type": "string"
                },
                {
                  "name": "ano",
                  "rawType": "int64",
                  "type": "integer"
                },
                {
                  "name": "faixa_etaria",
                  "rawType": "object",
                  "type": "string"
                },
                {
                  "name": "total",
                  "rawType": "int64",
                  "type": "integer"
                },
                {
                  "name": "id_faixa_etaria",
                  "rawType": "int64",
                  "type": "integer"
                },
                {
                  "name": "UF",
                  "rawType": "object",
                  "type": "string"
                },
                {
                  "name": "cod_faixa",
                  "rawType": "int64",
                  "type": "integer"
                },
                {
                  "name": "perc_necessidade",
                  "rawType": "float64",
                  "type": "float"
                },
                {
                  "name": "tipo_procedimento",
                  "rawType": "object",
                  "type": "string"
                },
                {
                  "name": "cod_procedimento",
                  "rawType": "int64",
                  "type": "integer"
                },
                {
                  "name": "necessidade_populacao",
                  "rawType": "float64",
                  "type": "float"
                }
              ],
              "ref": "d9db9ac0-056e-4ee2-9c89-938fd1414ff0",
              "rows": [
                [
                  "0",
                  "11",
                  "RO",
                  "2015",
                  "00 a 14 anos",
                  "423499",
                  "1",
                  "Rondônia",
                  "1",
                  "0.508139",
                  "APS",
                  "3",
                  "215196.358361"
                ],
                [
                  "1",
                  "11",
                  "RO",
                  "2015",
                  "00 a 14 anos",
                  "423499",
                  "1",
                  "Rondônia",
                  "1",
                  "0.14707",
                  "Endodontia",
                  "1",
                  "62283.997930000005"
                ],
                [
                  "2",
                  "11",
                  "RO",
                  "2015",
                  "00 a 14 anos",
                  "423499",
                  "1",
                  "Rondônia",
                  "1",
                  "0.0",
                  "Periodontia",
                  "2",
                  "0.0"
                ],
                [
                  "3",
                  "11",
                  "RO",
                  "2015",
                  "00 a 14 anos",
                  "423499",
                  "1",
                  "Rondônia",
                  "1",
                  "0.0",
                  "Prótese",
                  "4",
                  "0.0"
                ],
                [
                  "4",
                  "11",
                  "RO",
                  "2015",
                  "15 a 29 anos",
                  "450718",
                  "2",
                  "Rondônia",
                  "2",
                  "0.65196",
                  "APS",
                  "3",
                  "293850.10728"
                ]
              ],
              "shape": {
                "columns": 12,
                "rows": 5
              }
            },
            "text/html": [
              "<div>\n",
              "<style scoped>\n",
              "    .dataframe tbody tr th:only-of-type {\n",
              "        vertical-align: middle;\n",
              "    }\n",
              "\n",
              "    .dataframe tbody tr th {\n",
              "        vertical-align: top;\n",
              "    }\n",
              "\n",
              "    .dataframe thead th {\n",
              "        text-align: right;\n",
              "    }\n",
              "</style>\n",
              "<table border=\"1\" class=\"dataframe\">\n",
              "  <thead>\n",
              "    <tr style=\"text-align: right;\">\n",
              "      <th></th>\n",
              "      <th>cod_uf</th>\n",
              "      <th>uf</th>\n",
              "      <th>ano</th>\n",
              "      <th>faixa_etaria</th>\n",
              "      <th>total</th>\n",
              "      <th>id_faixa_etaria</th>\n",
              "      <th>UF</th>\n",
              "      <th>cod_faixa</th>\n",
              "      <th>perc_necessidade</th>\n",
              "      <th>tipo_procedimento</th>\n",
              "      <th>cod_procedimento</th>\n",
              "      <th>necessidade_populacao</th>\n",
              "    </tr>\n",
              "  </thead>\n",
              "  <tbody>\n",
              "    <tr>\n",
              "      <th>0</th>\n",
              "      <td>11</td>\n",
              "      <td>RO</td>\n",
              "      <td>2015</td>\n",
              "      <td>00 a 14 anos</td>\n",
              "      <td>423499</td>\n",
              "      <td>1</td>\n",
              "      <td>Rondônia</td>\n",
              "      <td>1</td>\n",
              "      <td>0.508139</td>\n",
              "      <td>APS</td>\n",
              "      <td>3</td>\n",
              "      <td>215196.358361</td>\n",
              "    </tr>\n",
              "    <tr>\n",
              "      <th>1</th>\n",
              "      <td>11</td>\n",
              "      <td>RO</td>\n",
              "      <td>2015</td>\n",
              "      <td>00 a 14 anos</td>\n",
              "      <td>423499</td>\n",
              "      <td>1</td>\n",
              "      <td>Rondônia</td>\n",
              "      <td>1</td>\n",
              "      <td>0.147070</td>\n",
              "      <td>Endodontia</td>\n",
              "      <td>1</td>\n",
              "      <td>62283.997930</td>\n",
              "    </tr>\n",
              "    <tr>\n",
              "      <th>2</th>\n",
              "      <td>11</td>\n",
              "      <td>RO</td>\n",
              "      <td>2015</td>\n",
              "      <td>00 a 14 anos</td>\n",
              "      <td>423499</td>\n",
              "      <td>1</td>\n",
              "      <td>Rondônia</td>\n",
              "      <td>1</td>\n",
              "      <td>0.000000</td>\n",
              "      <td>Periodontia</td>\n",
              "      <td>2</td>\n",
              "      <td>0.000000</td>\n",
              "    </tr>\n",
              "    <tr>\n",
              "      <th>3</th>\n",
              "      <td>11</td>\n",
              "      <td>RO</td>\n",
              "      <td>2015</td>\n",
              "      <td>00 a 14 anos</td>\n",
              "      <td>423499</td>\n",
              "      <td>1</td>\n",
              "      <td>Rondônia</td>\n",
              "      <td>1</td>\n",
              "      <td>0.000000</td>\n",
              "      <td>Prótese</td>\n",
              "      <td>4</td>\n",
              "      <td>0.000000</td>\n",
              "    </tr>\n",
              "    <tr>\n",
              "      <th>4</th>\n",
              "      <td>11</td>\n",
              "      <td>RO</td>\n",
              "      <td>2015</td>\n",
              "      <td>15 a 29 anos</td>\n",
              "      <td>450718</td>\n",
              "      <td>2</td>\n",
              "      <td>Rondônia</td>\n",
              "      <td>2</td>\n",
              "      <td>0.651960</td>\n",
              "      <td>APS</td>\n",
              "      <td>3</td>\n",
              "      <td>293850.107280</td>\n",
              "    </tr>\n",
              "  </tbody>\n",
              "</table>\n",
              "</div>"
            ],
            "text/plain": [
              "   cod_uf  uf   ano  faixa_etaria   total  id_faixa_etaria        UF  \\\n",
              "0      11  RO  2015  00 a 14 anos  423499                1  Rondônia   \n",
              "1      11  RO  2015  00 a 14 anos  423499                1  Rondônia   \n",
              "2      11  RO  2015  00 a 14 anos  423499                1  Rondônia   \n",
              "3      11  RO  2015  00 a 14 anos  423499                1  Rondônia   \n",
              "4      11  RO  2015  15 a 29 anos  450718                2  Rondônia   \n",
              "\n",
              "   cod_faixa  perc_necessidade tipo_procedimento  cod_procedimento  \\\n",
              "0          1          0.508139               APS                 3   \n",
              "1          1          0.147070        Endodontia                 1   \n",
              "2          1          0.000000       Periodontia                 2   \n",
              "3          1          0.000000           Prótese                 4   \n",
              "4          2          0.651960               APS                 3   \n",
              "\n",
              "   necessidade_populacao  \n",
              "0          215196.358361  \n",
              "1           62283.997930  \n",
              "2               0.000000  \n",
              "3               0.000000  \n",
              "4          293850.107280  "
            ]
          },
          "execution_count": 17,
          "metadata": {},
          "output_type": "execute_result"
        }
      ],
      "source": [
        "populacao_cobertura = (\n",
        "    projecoes_tratadas\n",
        "    .merge(cobertura_sb, left_on=[\"cod_uf\", \"id_faixa_etaria\"],\n",
        "                          right_on=[\"cod_uf\", \"cod_faixa\"], how=\"left\")\n",
        "    .assign(necessidade_populacao=lambda d: d[\"total\"] * d[\"perc_necessidade\"])\n",
        ")\n",
        "populacao_cobertura.head()\n"
      ]
    },
    {
      "cell_type": "markdown",
      "metadata": {
        "id": "dG7OWgNg_0kW"
      },
      "source": [
        "## Acessando a necessidade per capita (S)\n",
        "\n",
        "O próximo passo consiste em juntar a base criada anteriormente com a base de necessidade por indivíduo (necessidade per capita).\n",
        "\n",
        "#### Atenção!! É muito importante que os procedimentos per capita sejam consumidos, por default, desta base. Porém, o usuário pode ajustar. \n"
      ]
    },
    {
      "cell_type": "code",
      "execution_count": 18,
      "metadata": {
        "colab": {
          "base_uri": "https://localhost:8080/",
          "height": 206
        },
        "id": "jjhDx-Bs_20G",
        "outputId": "419de316-51b5-446c-b8c6-57ab941a0e3f"
      },
      "outputs": [
        {
          "data": {
            "application/vnd.microsoft.datawrangler.viewer.v0+json": {
              "columns": [
                {
                  "name": "index",
                  "rawType": "int64",
                  "type": "integer"
                },
                {
                  "name": "cod_uf",
                  "rawType": "int64",
                  "type": "integer"
                },
                {
                  "name": "cod_faixa",
                  "rawType": "int64",
                  "type": "integer"
                },
                {
                  "name": "proc_per_capita",
                  "rawType": "float64",
                  "type": "float"
                },
                {
                  "name": "cod_procedimento",
                  "rawType": "int64",
                  "type": "integer"
                }
              ],
              "ref": "7bf8e0d0-8b9f-4739-aabb-8a3a8d2b8c15",
              "rows": [
                [
                  "0",
                  "12",
                  "1",
                  "0.3598",
                  "1"
                ],
                [
                  "1",
                  "12",
                  "2",
                  "0.2245",
                  "1"
                ],
                [
                  "2",
                  "12",
                  "3",
                  "0.1455",
                  "1"
                ],
                [
                  "3",
                  "12",
                  "4",
                  "0.1058",
                  "1"
                ],
                [
                  "4",
                  "27",
                  "1",
                  "0.141",
                  "1"
                ]
              ],
              "shape": {
                "columns": 4,
                "rows": 5
              }
            },
            "text/html": [
              "<div>\n",
              "<style scoped>\n",
              "    .dataframe tbody tr th:only-of-type {\n",
              "        vertical-align: middle;\n",
              "    }\n",
              "\n",
              "    .dataframe tbody tr th {\n",
              "        vertical-align: top;\n",
              "    }\n",
              "\n",
              "    .dataframe thead th {\n",
              "        text-align: right;\n",
              "    }\n",
              "</style>\n",
              "<table border=\"1\" class=\"dataframe\">\n",
              "  <thead>\n",
              "    <tr style=\"text-align: right;\">\n",
              "      <th></th>\n",
              "      <th>cod_uf</th>\n",
              "      <th>cod_faixa</th>\n",
              "      <th>proc_per_capita</th>\n",
              "      <th>cod_procedimento</th>\n",
              "    </tr>\n",
              "  </thead>\n",
              "  <tbody>\n",
              "    <tr>\n",
              "      <th>0</th>\n",
              "      <td>12</td>\n",
              "      <td>1</td>\n",
              "      <td>0.3598</td>\n",
              "      <td>1</td>\n",
              "    </tr>\n",
              "    <tr>\n",
              "      <th>1</th>\n",
              "      <td>12</td>\n",
              "      <td>2</td>\n",
              "      <td>0.2245</td>\n",
              "      <td>1</td>\n",
              "    </tr>\n",
              "    <tr>\n",
              "      <th>2</th>\n",
              "      <td>12</td>\n",
              "      <td>3</td>\n",
              "      <td>0.1455</td>\n",
              "      <td>1</td>\n",
              "    </tr>\n",
              "    <tr>\n",
              "      <th>3</th>\n",
              "      <td>12</td>\n",
              "      <td>4</td>\n",
              "      <td>0.1058</td>\n",
              "      <td>1</td>\n",
              "    </tr>\n",
              "    <tr>\n",
              "      <th>4</th>\n",
              "      <td>27</td>\n",
              "      <td>1</td>\n",
              "      <td>0.1410</td>\n",
              "      <td>1</td>\n",
              "    </tr>\n",
              "  </tbody>\n",
              "</table>\n",
              "</div>"
            ],
            "text/plain": [
              "   cod_uf  cod_faixa  proc_per_capita  cod_procedimento\n",
              "0      12          1           0.3598                 1\n",
              "1      12          2           0.2245                 1\n",
              "2      12          3           0.1455                 1\n",
              "3      12          4           0.1058                 1\n",
              "4      27          1           0.1410                 1"
            ]
          },
          "execution_count": 18,
          "metadata": {},
          "output_type": "execute_result"
        }
      ],
      "source": [
        "percapita = (\n",
        "    pd.read_csv(\"merge_sb_percapita.csv\", sep=\";\")\n",
        "    .drop(columns=[\"Unnamed: 0\", \"faixa_etaria\", \"se\", \"ic_inf\",\n",
        "                   \"ic_sup\", \"UF\", \"total_populacao\"])\n",
        "    .assign(\n",
        "        cod_procedimento=lambda d: d[\"tipo_procedimento\"].map({\n",
        "            \"Endodontia\": 1,\n",
        "            \"Periodontia\": 2,\n",
        "            \"APS\": 3,\n",
        "            \"Prótese\": 4\n",
        "        })\n",
        "    )\n",
        "    .drop(columns=[\"tipo_procedimento\"])\n",
        ")\n",
        "percapita.head()\n"
      ]
    },
    {
      "cell_type": "markdown",
      "metadata": {
        "id": "dgrrt0Qu_6pH"
      },
      "source": [
        "O próximo passo é juntar todos os parâmetros (cobertura - H) e (procedimentos per capita - S).\n"
      ]
    },
    {
      "cell_type": "code",
      "execution_count": 19,
      "metadata": {
        "colab": {
          "base_uri": "https://localhost:8080/",
          "height": 356
        },
        "id": "3I0e-NsK_8Y6",
        "outputId": "7a5f27d1-4f5f-49e4-a6f4-1fa6e9ea1026"
      },
      "outputs": [
        {
          "data": {
            "application/vnd.microsoft.datawrangler.viewer.v0+json": {
              "columns": [
                {
                  "name": "index",
                  "rawType": "int64",
                  "type": "integer"
                },
                {
                  "name": "ano",
                  "rawType": "int64",
                  "type": "integer"
                },
                {
                  "name": "uf",
                  "rawType": "object",
                  "type": "string"
                },
                {
                  "name": "cod_uf",
                  "rawType": "int64",
                  "type": "integer"
                },
                {
                  "name": "faixa_etaria",
                  "rawType": "object",
                  "type": "string"
                },
                {
                  "name": "populacao_total",
                  "rawType": "int64",
                  "type": "integer"
                },
                {
                  "name": "tipo_procedimento",
                  "rawType": "object",
                  "type": "string"
                },
                {
                  "name": "necessidade_percentual",
                  "rawType": "float64",
                  "type": "float"
                },
                {
                  "name": "necessidade_populacao",
                  "rawType": "float64",
                  "type": "float"
                },
                {
                  "name": "procedimentos_por_individuo",
                  "rawType": "float64",
                  "type": "float"
                },
                {
                  "name": "total_procedimentos_necessario",
                  "rawType": "float64",
                  "type": "float"
                }
              ],
              "ref": "0868a721-8bb1-40a3-92eb-b9db29fa4d49",
              "rows": [
                [
                  "0",
                  "2015",
                  "RO",
                  "11",
                  "00 a 14 anos",
                  "423499",
                  "APS",
                  "0.508139",
                  "215196.358361",
                  "1.5738",
                  "338676.0287885418"
                ],
                [
                  "1",
                  "2015",
                  "RO",
                  "11",
                  "00 a 14 anos",
                  "423499",
                  "Endodontia",
                  "0.14707",
                  "62283.997930000005",
                  "0.3174",
                  "19768.940942982004"
                ],
                [
                  "2",
                  "2015",
                  "RO",
                  "11",
                  "00 a 14 anos",
                  "423499",
                  "Periodontia",
                  "0.0",
                  "0.0",
                  "0.0",
                  "0.0"
                ],
                [
                  "3",
                  "2015",
                  "RO",
                  "11",
                  "00 a 14 anos",
                  "423499",
                  "Prótese",
                  "0.0",
                  "0.0",
                  "0.0",
                  "0.0"
                ],
                [
                  "4",
                  "2015",
                  "RO",
                  "11",
                  "15 a 29 anos",
                  "450718",
                  "APS",
                  "0.65196",
                  "293850.10728",
                  "2.0262",
                  "595399.087370736"
                ]
              ],
              "shape": {
                "columns": 10,
                "rows": 5
              }
            },
            "text/html": [
              "<div>\n",
              "<style scoped>\n",
              "    .dataframe tbody tr th:only-of-type {\n",
              "        vertical-align: middle;\n",
              "    }\n",
              "\n",
              "    .dataframe tbody tr th {\n",
              "        vertical-align: top;\n",
              "    }\n",
              "\n",
              "    .dataframe thead th {\n",
              "        text-align: right;\n",
              "    }\n",
              "</style>\n",
              "<table border=\"1\" class=\"dataframe\">\n",
              "  <thead>\n",
              "    <tr style=\"text-align: right;\">\n",
              "      <th></th>\n",
              "      <th>ano</th>\n",
              "      <th>uf</th>\n",
              "      <th>cod_uf</th>\n",
              "      <th>faixa_etaria</th>\n",
              "      <th>populacao_total</th>\n",
              "      <th>tipo_procedimento</th>\n",
              "      <th>necessidade_percentual</th>\n",
              "      <th>necessidade_populacao</th>\n",
              "      <th>procedimentos_por_individuo</th>\n",
              "      <th>total_procedimentos_necessario</th>\n",
              "    </tr>\n",
              "  </thead>\n",
              "  <tbody>\n",
              "    <tr>\n",
              "      <th>0</th>\n",
              "      <td>2015</td>\n",
              "      <td>RO</td>\n",
              "      <td>11</td>\n",
              "      <td>00 a 14 anos</td>\n",
              "      <td>423499</td>\n",
              "      <td>APS</td>\n",
              "      <td>0.508139</td>\n",
              "      <td>215196.358361</td>\n",
              "      <td>1.5738</td>\n",
              "      <td>338676.028789</td>\n",
              "    </tr>\n",
              "    <tr>\n",
              "      <th>1</th>\n",
              "      <td>2015</td>\n",
              "      <td>RO</td>\n",
              "      <td>11</td>\n",
              "      <td>00 a 14 anos</td>\n",
              "      <td>423499</td>\n",
              "      <td>Endodontia</td>\n",
              "      <td>0.147070</td>\n",
              "      <td>62283.997930</td>\n",
              "      <td>0.3174</td>\n",
              "      <td>19768.940943</td>\n",
              "    </tr>\n",
              "    <tr>\n",
              "      <th>2</th>\n",
              "      <td>2015</td>\n",
              "      <td>RO</td>\n",
              "      <td>11</td>\n",
              "      <td>00 a 14 anos</td>\n",
              "      <td>423499</td>\n",
              "      <td>Periodontia</td>\n",
              "      <td>0.000000</td>\n",
              "      <td>0.000000</td>\n",
              "      <td>0.0000</td>\n",
              "      <td>0.000000</td>\n",
              "    </tr>\n",
              "    <tr>\n",
              "      <th>3</th>\n",
              "      <td>2015</td>\n",
              "      <td>RO</td>\n",
              "      <td>11</td>\n",
              "      <td>00 a 14 anos</td>\n",
              "      <td>423499</td>\n",
              "      <td>Prótese</td>\n",
              "      <td>0.000000</td>\n",
              "      <td>0.000000</td>\n",
              "      <td>0.0000</td>\n",
              "      <td>0.000000</td>\n",
              "    </tr>\n",
              "    <tr>\n",
              "      <th>4</th>\n",
              "      <td>2015</td>\n",
              "      <td>RO</td>\n",
              "      <td>11</td>\n",
              "      <td>15 a 29 anos</td>\n",
              "      <td>450718</td>\n",
              "      <td>APS</td>\n",
              "      <td>0.651960</td>\n",
              "      <td>293850.107280</td>\n",
              "      <td>2.0262</td>\n",
              "      <td>595399.087371</td>\n",
              "    </tr>\n",
              "  </tbody>\n",
              "</table>\n",
              "</div>"
            ],
            "text/plain": [
              "    ano  uf  cod_uf  faixa_etaria  populacao_total tipo_procedimento  \\\n",
              "0  2015  RO      11  00 a 14 anos           423499               APS   \n",
              "1  2015  RO      11  00 a 14 anos           423499        Endodontia   \n",
              "2  2015  RO      11  00 a 14 anos           423499       Periodontia   \n",
              "3  2015  RO      11  00 a 14 anos           423499           Prótese   \n",
              "4  2015  RO      11  15 a 29 anos           450718               APS   \n",
              "\n",
              "   necessidade_percentual  necessidade_populacao  procedimentos_por_individuo  \\\n",
              "0                0.508139          215196.358361                       1.5738   \n",
              "1                0.147070           62283.997930                       0.3174   \n",
              "2                0.000000               0.000000                       0.0000   \n",
              "3                0.000000               0.000000                       0.0000   \n",
              "4                0.651960          293850.107280                       2.0262   \n",
              "\n",
              "   total_procedimentos_necessario  \n",
              "0                   338676.028789  \n",
              "1                    19768.940943  \n",
              "2                        0.000000  \n",
              "3                        0.000000  \n",
              "4                   595399.087371  "
            ]
          },
          "execution_count": 19,
          "metadata": {},
          "output_type": "execute_result"
        }
      ],
      "source": [
        "producao_completa = (\n",
        "    populacao_cobertura\n",
        "    .merge(\n",
        "        percapita,\n",
        "        left_on=[\"cod_uf\", \"id_faixa_etaria\", \"cod_procedimento\"],\n",
        "        right_on=[\"cod_uf\", \"cod_faixa\", \"cod_procedimento\"],\n",
        "        how=\"left\"\n",
        "    )\n",
        "    .assign(\n",
        "        necessidade_procedimentos=lambda d: d[\"necessidade_populacao\"] * d[\"proc_per_capita\"]\n",
        "    )\n",
        "    .rename(columns={\n",
        "        \"total\": \"populacao_total\",\n",
        "        \"perc_necessidade\": \"necessidade_percentual\",\n",
        "        \"proc_per_capita\": \"procedimentos_por_individuo\",\n",
        "        \"necessidade_procedimentos\": \"total_procedimentos_necessario\"\n",
        "    })\n",
        "    [[\"ano\", \"uf\", \"cod_uf\", \"faixa_etaria\", \"populacao_total\", \"tipo_procedimento\",\n",
        "      \"necessidade_percentual\", \"necessidade_populacao\", \"procedimentos_por_individuo\",\n",
        "      \"total_procedimentos_necessario\"]]\n",
        " )\n",
        "producao_completa.head()"
      ]
    },
    {
      "cell_type": "markdown",
      "metadata": {
        "id": "dmAEsduX_-iA"
      },
      "source": [
        "Incluir elementos sobre tempo de procedimento.\n",
        "\n",
        "#### Atenção!! É muito importante que os tempos possam ser ajustados. Por isso foram inseridos em uma função. O TTD também é um parâmetro da função que deve ser calculado em função das horas de trabalho \n"
      ]
    },
    {
      "cell_type": "code",
      "execution_count": 20,
      "metadata": {
        "id": "G1xt1N6tAAPm"
      },
      "outputs": [
        {
          "data": {
            "application/vnd.microsoft.datawrangler.viewer.v0+json": {
              "columns": [
                {
                  "name": "index",
                  "rawType": "int64",
                  "type": "integer"
                },
                {
                  "name": "ano",
                  "rawType": "int64",
                  "type": "integer"
                },
                {
                  "name": "uf",
                  "rawType": "object",
                  "type": "string"
                },
                {
                  "name": "cod_uf",
                  "rawType": "int64",
                  "type": "integer"
                },
                {
                  "name": "faixa_etaria",
                  "rawType": "object",
                  "type": "string"
                },
                {
                  "name": "populacao_total",
                  "rawType": "int64",
                  "type": "integer"
                },
                {
                  "name": "tipo_procedimento",
                  "rawType": "object",
                  "type": "string"
                },
                {
                  "name": "necessidade_percentual",
                  "rawType": "float64",
                  "type": "float"
                },
                {
                  "name": "necessidade_populacao",
                  "rawType": "float64",
                  "type": "float"
                },
                {
                  "name": "procedimentos_por_individuo",
                  "rawType": "float64",
                  "type": "float"
                },
                {
                  "name": "total_procedimentos_necessario",
                  "rawType": "float64",
                  "type": "float"
                },
                {
                  "name": "tempo_por_procedimento",
                  "rawType": "float64",
                  "type": "float"
                },
                {
                  "name": "total_por_hora",
                  "rawType": "float64",
                  "type": "float"
                },
                {
                  "name": "fte40",
                  "rawType": "float64",
                  "type": "float"
                }
              ],
              "ref": "dc3becee-b2fa-4dd8-b70e-22835db7bd62",
              "rows": [
                [
                  "0",
                  "2015",
                  "RO",
                  "11",
                  "00 a 14 anos",
                  "423499",
                  "APS",
                  "0.508139",
                  "215196.358361",
                  "1.5738",
                  "338676.0287885418",
                  "0.5",
                  "169338.0143942709",
                  "112.8920095961806"
                ],
                [
                  "1",
                  "2015",
                  "RO",
                  "11",
                  "00 a 14 anos",
                  "423499",
                  "Endodontia",
                  "0.14707",
                  "62283.997930000005",
                  "0.3174",
                  "19768.940942982004",
                  "0.5",
                  "9884.470471491002",
                  "6.589646980994002"
                ],
                [
                  "2",
                  "2015",
                  "RO",
                  "11",
                  "00 a 14 anos",
                  "423499",
                  "Periodontia",
                  "0.0",
                  "0.0",
                  "0.0",
                  "0.0",
                  "0.5",
                  "0.0",
                  "0.0"
                ],
                [
                  "3",
                  "2015",
                  "RO",
                  "11",
                  "00 a 14 anos",
                  "423499",
                  "Prótese",
                  "0.0",
                  "0.0",
                  "0.0",
                  "0.0",
                  null,
                  null,
                  null
                ],
                [
                  "4",
                  "2015",
                  "RO",
                  "11",
                  "15 a 29 anos",
                  "450718",
                  "APS",
                  "0.65196",
                  "293850.10728",
                  "2.0262",
                  "595399.087370736",
                  "0.5",
                  "297699.543685368",
                  "198.46636245691198"
                ]
              ],
              "shape": {
                "columns": 13,
                "rows": 5
              }
            },
            "text/html": [
              "<div>\n",
              "<style scoped>\n",
              "    .dataframe tbody tr th:only-of-type {\n",
              "        vertical-align: middle;\n",
              "    }\n",
              "\n",
              "    .dataframe tbody tr th {\n",
              "        vertical-align: top;\n",
              "    }\n",
              "\n",
              "    .dataframe thead th {\n",
              "        text-align: right;\n",
              "    }\n",
              "</style>\n",
              "<table border=\"1\" class=\"dataframe\">\n",
              "  <thead>\n",
              "    <tr style=\"text-align: right;\">\n",
              "      <th></th>\n",
              "      <th>ano</th>\n",
              "      <th>uf</th>\n",
              "      <th>cod_uf</th>\n",
              "      <th>faixa_etaria</th>\n",
              "      <th>populacao_total</th>\n",
              "      <th>tipo_procedimento</th>\n",
              "      <th>necessidade_percentual</th>\n",
              "      <th>necessidade_populacao</th>\n",
              "      <th>procedimentos_por_individuo</th>\n",
              "      <th>total_procedimentos_necessario</th>\n",
              "      <th>tempo_por_procedimento</th>\n",
              "      <th>total_por_hora</th>\n",
              "      <th>fte40</th>\n",
              "    </tr>\n",
              "  </thead>\n",
              "  <tbody>\n",
              "    <tr>\n",
              "      <th>0</th>\n",
              "      <td>2015</td>\n",
              "      <td>RO</td>\n",
              "      <td>11</td>\n",
              "      <td>00 a 14 anos</td>\n",
              "      <td>423499</td>\n",
              "      <td>APS</td>\n",
              "      <td>0.508139</td>\n",
              "      <td>215196.358361</td>\n",
              "      <td>1.5738</td>\n",
              "      <td>338676.028789</td>\n",
              "      <td>0.5</td>\n",
              "      <td>169338.014394</td>\n",
              "      <td>112.892010</td>\n",
              "    </tr>\n",
              "    <tr>\n",
              "      <th>1</th>\n",
              "      <td>2015</td>\n",
              "      <td>RO</td>\n",
              "      <td>11</td>\n",
              "      <td>00 a 14 anos</td>\n",
              "      <td>423499</td>\n",
              "      <td>Endodontia</td>\n",
              "      <td>0.147070</td>\n",
              "      <td>62283.997930</td>\n",
              "      <td>0.3174</td>\n",
              "      <td>19768.940943</td>\n",
              "      <td>0.5</td>\n",
              "      <td>9884.470471</td>\n",
              "      <td>6.589647</td>\n",
              "    </tr>\n",
              "    <tr>\n",
              "      <th>2</th>\n",
              "      <td>2015</td>\n",
              "      <td>RO</td>\n",
              "      <td>11</td>\n",
              "      <td>00 a 14 anos</td>\n",
              "      <td>423499</td>\n",
              "      <td>Periodontia</td>\n",
              "      <td>0.000000</td>\n",
              "      <td>0.000000</td>\n",
              "      <td>0.0000</td>\n",
              "      <td>0.000000</td>\n",
              "      <td>0.5</td>\n",
              "      <td>0.000000</td>\n",
              "      <td>0.000000</td>\n",
              "    </tr>\n",
              "    <tr>\n",
              "      <th>3</th>\n",
              "      <td>2015</td>\n",
              "      <td>RO</td>\n",
              "      <td>11</td>\n",
              "      <td>00 a 14 anos</td>\n",
              "      <td>423499</td>\n",
              "      <td>Prótese</td>\n",
              "      <td>0.000000</td>\n",
              "      <td>0.000000</td>\n",
              "      <td>0.0000</td>\n",
              "      <td>0.000000</td>\n",
              "      <td>NaN</td>\n",
              "      <td>NaN</td>\n",
              "      <td>NaN</td>\n",
              "    </tr>\n",
              "    <tr>\n",
              "      <th>4</th>\n",
              "      <td>2015</td>\n",
              "      <td>RO</td>\n",
              "      <td>11</td>\n",
              "      <td>15 a 29 anos</td>\n",
              "      <td>450718</td>\n",
              "      <td>APS</td>\n",
              "      <td>0.651960</td>\n",
              "      <td>293850.107280</td>\n",
              "      <td>2.0262</td>\n",
              "      <td>595399.087371</td>\n",
              "      <td>0.5</td>\n",
              "      <td>297699.543685</td>\n",
              "      <td>198.466362</td>\n",
              "    </tr>\n",
              "  </tbody>\n",
              "</table>\n",
              "</div>"
            ],
            "text/plain": [
              "    ano  uf  cod_uf  faixa_etaria  populacao_total tipo_procedimento  \\\n",
              "0  2015  RO      11  00 a 14 anos           423499               APS   \n",
              "1  2015  RO      11  00 a 14 anos           423499        Endodontia   \n",
              "2  2015  RO      11  00 a 14 anos           423499       Periodontia   \n",
              "3  2015  RO      11  00 a 14 anos           423499           Prótese   \n",
              "4  2015  RO      11  15 a 29 anos           450718               APS   \n",
              "\n",
              "   necessidade_percentual  necessidade_populacao  procedimentos_por_individuo  \\\n",
              "0                0.508139          215196.358361                       1.5738   \n",
              "1                0.147070           62283.997930                       0.3174   \n",
              "2                0.000000               0.000000                       0.0000   \n",
              "3                0.000000               0.000000                       0.0000   \n",
              "4                0.651960          293850.107280                       2.0262   \n",
              "\n",
              "   total_procedimentos_necessario  tempo_por_procedimento  total_por_hora  \\\n",
              "0                   338676.028789                     0.5   169338.014394   \n",
              "1                    19768.940943                     0.5     9884.470471   \n",
              "2                        0.000000                     0.5        0.000000   \n",
              "3                        0.000000                     NaN             NaN   \n",
              "4                   595399.087371                     0.5   297699.543685   \n",
              "\n",
              "        fte40  \n",
              "0  112.892010  \n",
              "1    6.589647  \n",
              "2    0.000000  \n",
              "3         NaN  \n",
              "4  198.466362  "
            ]
          },
          "execution_count": 20,
          "metadata": {},
          "output_type": "execute_result"
        }
      ],
      "source": [
        "def funcao_tempo(t_aps, t_endo, t_periodontia, t_protese, ttd):\n",
        "    df = producao_completa.copy()\n",
        "    df[\"tempo_por_procedimento\"] = df[\"tipo_procedimento\"].map({\n",
        "        \"APS\": t_aps,\n",
        "        \"Endodontia\": t_endo,\n",
        "        \"Periodontia\": t_periodontia,\n",
        "        \"Protese\": t_protese\n",
        "    })\n",
        "    df[\"total_por_hora\"] = df[\"tempo_por_procedimento\"] * df[\"total_procedimentos_necessario\"]\n",
        "    df[\"fte40\"] = df[\"total_por_hora\"] / ttd\n",
        "    return df\n",
        "\n",
        "funcao_tempo(t_aps=0.5, t_endo=0.5, t_periodontia=0.5, t_protese=0.5, ttd=1500).head()\n"
      ]
    }
  ],
  "metadata": {
    "colab": {
      "provenance": []
    },
    "kernelspec": {
      "display_name": "base",
      "language": "python",
      "name": "python3"
    },
    "language_info": {
      "codemirror_mode": {
        "name": "ipython",
        "version": 3
      },
      "file_extension": ".py",
      "mimetype": "text/x-python",
      "name": "python",
      "nbconvert_exporter": "python",
      "pygments_lexer": "ipython3",
      "version": "3.12.4"
    }
  },
  "nbformat": 4,
  "nbformat_minor": 0
}
