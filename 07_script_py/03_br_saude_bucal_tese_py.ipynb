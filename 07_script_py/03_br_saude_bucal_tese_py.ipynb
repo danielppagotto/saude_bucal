{
 "cells": [
  {
   "cell_type": "markdown",
   "id": "db6b53fb",
   "metadata": {},
   "source": [
    "## Saúde Bucal - material suplementar\n"
   ]
  },
  {
   "cell_type": "markdown",
   "id": "9332ed0e",
   "metadata": {},
   "source": [
    "### Procedimentos metodológicos\n",
    "---\n",
    "A construção do modelo de planejamento da força de trabalho (PDFT) para saúde bucal baseado em necessidades foi elaborado a partir das orientações de Asamani et al. (2021) que sugerem algumas etapas, que serão descritas com maior detalhamento a seguir:\n",
    "\n",
    "1. Definição de escopo da metodologia em termos de cobertura jurisdicional, objetivos e horizonte temporal;\n",
    "2. Análise da necessidade de saúde bucal com base em aspectos da demografia, epidemiologia e serviços destinados da população a local;\n",
    "3. Tradução do número de serviços em número de profissionais necessários;\n",
    "4. Exploração das implicações em termos de recursos, como a oferta atual de profissionais e custos;\n",
    "5. Análise de sensibilidade para simulação de parâmetros de incerteza;\n",
    "6. Validação de modelo por meio de consulta a stakeholders."
   ]
  },
  {
   "cell_type": "markdown",
   "id": "7a95ad40",
   "metadata": {},
   "source": [
    "### Preparando ambiente do R\n",
    "---\n",
    "\n",
    "Carregando os pacotes necessários para o Python."
   ]
  },
  {
   "cell_type": "code",
   "execution_count": 30,
   "id": "20190706",
   "metadata": {},
   "outputs": [],
   "source": [
    "#instalando os pacotes que ainda não foram instalados\n",
    "\n",
    "!pip install pyodbc\n",
    "!pip install geopandas\n",
    "!pip install rtree\n",
    "!pip install pygeos\n",
    "!pip install mapclassify\n",
    "!pip install geobr\n",
    "!pip install plotnine\n",
    "!pip install dash\n",
    "!pip install cartopy\n",
    "!pip install geojson\n"
   ]
  },
  {
   "cell_type": "code",
   "execution_count": 31,
   "id": "73d6c5e6",
   "metadata": {},
   "outputs": [],
   "source": [
    "# Modelagem\n",
    "import pandas as pd\n",
    "import numpy as np\n",
    "\n",
    "#execução dremio\n",
    "import pyodbc\n",
    "\n",
    "# Data View\n",
    "import matplotlib.pyplot as plt\n",
    "import seaborn as sns\n",
    "import plotly.express as px\n",
    "from matplotlib.colors import Normalize\n",
    "from matplotlib import cm\n",
    "import matplotlib.ticker as ticker\n",
    "import matplotlib.colors as mcolors\n",
    "import plotnine\n",
    "import dash\n",
    "import dash.dash_table\n",
    "import adjustText\n",
    "import matplotlib.gridspec\n",
    "\n",
    "#Mapas\n",
    "import geopandas as gpd\n",
    "import rtree\n",
    "import pygeos\n",
    "import mapclassify\n",
    "import geobr\n",
    "from matplotlib.ticker import FuncFormatter\n",
    "import cartopy\n",
    "\n",
    "import geojson"
   ]
  },
  {
   "cell_type": "markdown",
   "id": "7fd8c41a",
   "metadata": {},
   "source": [
    "### 1. Definição de escopo\n",
    "---\n",
    "A metodologia tem como objetivo estimar a força de trabalho atual e necessária de cirurgiões dentistas e técnicos e auxilares de saúde bucal para atuação em municípios brasileiros, a nível de atenção primária, em procedimentos de natureza individual, bem como três procedimentos de natureza especializada: endodontia, prótese e periodontia.\n"
   ]
  },
  {
   "cell_type": "markdown",
   "id": "d4c57584",
   "metadata": {},
   "source": [
    "### 2. Análise das necessidades de saúde bucal\n",
    "---\n",
    "A análise da necessidade de saúde bucal (NSB) foi construída a partir de três elementos: distribuição da população por faixa etária (P), prevalência de condições de saúde bucal (H) e procedimentos per capita (S).\n",
    "\n",
    "![image.png](imagens/equacao1_sb.png)\n",
    "\n",
    "Onde:\n",
    "\n",
    "* NSB = Necessidade de saúde bucal é o número de serviços do tipo t destinados ao atendimento de população de faixa etária i e localidade l;\n",
    "* P = População por faixa-etária i de uma localidade l;\n",
    "* H = Prevalência de condições de saúde bucal que levam à necessidade de procedimentos do tipo t por faixa-etária i e dentro de uma localidade l;\n",
    "* S = Procedimentos per capita do tipo t, para cada faixa-etária i e dentro de uma localidade l.\n",
    "\n",
    "### 2.1. Levantando a faixa etária (P)\n",
    "\n",
    "A distribuição por faixa etária foi construída com base em dados do último censo (2022) e estão disponíveis na página do IBGE."
   ]
  },
  {
   "cell_type": "code",
   "execution_count": 80,
   "id": "5290689b",
   "metadata": {},
   "outputs": [
    {
     "data": {
      "text/plain": [
       "      cod_municipiodv        municipio  ibge_sb  0 a 4 anos  5 a 9 anos  \\\n",
       "0             5300108         Brasília  5300108      166848      184611   \n",
       "1             5208707          Goiânia  5208707       83676       89501   \n",
       "2             5200050  Abadia de Goiás  5200000        1590        1619   \n",
       "3             5200100        Abadiânia  5200000        1171        1228   \n",
       "4             5200134          Acreúna  5200000        1384        1497   \n",
       "...               ...              ...      ...         ...         ...   \n",
       "5764          1101609        Theobroma  1300000         521         533   \n",
       "5765          1101708            Urupá  1300000         741         713   \n",
       "5766          1101757    Vale do Anari  1300000         516         597   \n",
       "5767          1101807  Vale do Paraíso  1300000         381         413   \n",
       "5768          1100304          Vilhena  1300000        7158        6948   \n",
       "\n",
       "      10 a 14 anos  15 a 19 anos  20 a 24 anos  25 a 29 anos  30 a 34 anos  \\\n",
       "0           182774        208546        227966        224162        223174   \n",
       "1            85964         94233        113359        120411        118931   \n",
       "2             1601          1434          1449          1521          1645   \n",
       "3             1198          1184          1292          1199          1127   \n",
       "4             1448          1627          1569          1552          1538   \n",
       "...            ...           ...           ...           ...           ...   \n",
       "5764           604           589           452           465           491   \n",
       "5765           706           811           738           747           773   \n",
       "5766           598           570           474           512           521   \n",
       "5767           410           472           416           414           382   \n",
       "5768          6784          7290          7837          7914          8273   \n",
       "\n",
       "      ...  75 a 79 anos  80 a 84 anos  85 a 89 anos  90 a 94 anos  \\\n",
       "0     ...         42396         27501         14401          6121   \n",
       "1     ...         25381         16036          8393          3555   \n",
       "2     ...           195           114            60            23   \n",
       "3     ...           323           217            90            43   \n",
       "4     ...           376           204           115            37   \n",
       "...   ...           ...           ...           ...           ...   \n",
       "5764  ...           159            91            44            14   \n",
       "5765  ...           190           134            68            26   \n",
       "5766  ...           135            76            28            15   \n",
       "5767  ...           132            73            55            15   \n",
       "5768  ...          1186           700           352           120   \n",
       "\n",
       "      95 a 99 anos  100 anos ou mais  de_0_a_14_anos  de_15_a_29_anos  \\\n",
       "0             1720               300          534233           660674   \n",
       "1              922               171          259141           328003   \n",
       "2               10                 2            4810             4404   \n",
       "3                7                 4            3597             3675   \n",
       "4                7                 6            4329             4748   \n",
       "...            ...               ...             ...              ...   \n",
       "5764             3                 1            1658             1506   \n",
       "5765             3                 1            2160             2296   \n",
       "5766             2                 -            1711             1556   \n",
       "5767             8                 2            1204             1302   \n",
       "5768            23                 8           20890            23041   \n",
       "\n",
       "      de_30_a_59_anos  acima_de_60_anos  \n",
       "0             1257384            356949  \n",
       "1              633709            211865  \n",
       "2                8001              1878  \n",
       "3                7146              2760  \n",
       "4                9326              3115  \n",
       "...               ...               ...  \n",
       "5764             3533              1398  \n",
       "5765             4468              1771  \n",
       "5766             3323              1181  \n",
       "5767             2825              1123  \n",
       "5768            41080             10670  \n",
       "\n",
       "[5769 rows x 28 columns]"
      ]
     },
     "execution_count": 80,
     "metadata": {},
     "output_type": "execute_result"
    }
   ],
   "source": [
    "teste = pd.read_excel(\"populacao_municipio_censo_completa.xlsx\")\n",
    "teste"
   ]
  },
  {
   "cell_type": "code",
   "execution_count": null,
   "id": "1051fede",
   "metadata": {},
   "outputs": [],
   "source": []
  },
  {
   "cell_type": "code",
   "execution_count": null,
   "id": "cfdefac0",
   "metadata": {},
   "outputs": [],
   "source": []
  },
  {
   "cell_type": "code",
   "execution_count": null,
   "id": "87e12f46",
   "metadata": {},
   "outputs": [],
   "source": []
  },
  {
   "cell_type": "code",
   "execution_count": null,
   "id": "aac5757e",
   "metadata": {},
   "outputs": [],
   "source": []
  },
  {
   "cell_type": "code",
   "execution_count": null,
   "id": "f178ecfb",
   "metadata": {},
   "outputs": [],
   "source": []
  },
  {
   "cell_type": "code",
   "execution_count": null,
   "id": "d195ef76",
   "metadata": {},
   "outputs": [],
   "source": []
  },
  {
   "cell_type": "code",
   "execution_count": null,
   "id": "4690c342",
   "metadata": {},
   "outputs": [],
   "source": []
  },
  {
   "cell_type": "code",
   "execution_count": null,
   "id": "85caf8fd",
   "metadata": {},
   "outputs": [],
   "source": []
  },
  {
   "cell_type": "code",
   "execution_count": null,
   "id": "a31f8467",
   "metadata": {},
   "outputs": [],
   "source": []
  },
  {
   "cell_type": "code",
   "execution_count": null,
   "id": "25e4bfcc",
   "metadata": {},
   "outputs": [],
   "source": []
  },
  {
   "cell_type": "code",
   "execution_count": null,
   "id": "e5fced3a",
   "metadata": {},
   "outputs": [],
   "source": []
  },
  {
   "cell_type": "code",
   "execution_count": null,
   "id": "2fcffba0",
   "metadata": {},
   "outputs": [],
   "source": []
  },
  {
   "cell_type": "code",
   "execution_count": null,
   "id": "6d529885",
   "metadata": {},
   "outputs": [],
   "source": []
  }
 ],
 "metadata": {
  "kernelspec": {
   "display_name": "Python 3 (ipykernel)",
   "language": "python",
   "name": "python3"
  },
  "language_info": {
   "codemirror_mode": {
    "name": "ipython",
    "version": 3
   },
   "file_extension": ".py",
   "mimetype": "text/x-python",
   "name": "python",
   "nbconvert_exporter": "python",
   "pygments_lexer": "ipython3",
   "version": "3.10.9"
  }
 },
 "nbformat": 4,
 "nbformat_minor": 5
}
