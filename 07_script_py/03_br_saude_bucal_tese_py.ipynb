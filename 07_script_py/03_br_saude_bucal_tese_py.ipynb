{
 "cells": [
  {
   "cell_type": "markdown",
   "id": "66f58f06",
   "metadata": {},
   "source": [
    "## Saúde Bucal - material suplementar\n"
   ]
  },
  {
   "cell_type": "markdown",
   "id": "969a348b",
   "metadata": {},
   "source": [
    "### Procedimentos metodológicos\n",
    "---\n",
    "A construção do modelo de planejamento da força de trabalho (PDFT) para saúde bucal baseado em necessidades foi elaborado a partir das orientações de Asamani et al. (2021) que sugerem algumas etapas, que serão descritas com maior detalhamento a seguir:\n",
    "\n",
    "1. Definição de escopo da metodologia em termos de cobertura jurisdicional, objetivos e horizonte temporal;\n",
    "2. Análise da necessidade de saúde bucal com base em aspectos da demografia, epidemiologia e serviços destinados da população a local;\n",
    "3. Tradução do número de serviços em número de profissionais necessários;\n",
    "4. Exploração das implicações em termos de recursos, como a oferta atual de profissionais e custos;\n",
    "5. Análise de sensibilidade para simulação de parâmetros de incerteza;\n",
    "6. Validação de modelo por meio de consulta a stakeholders."
   ]
  },
  {
   "cell_type": "markdown",
   "id": "53c1e467",
   "metadata": {},
   "source": [
    "### Preparando ambiente do R\n",
    "---\n",
    "\n",
    "Carregando os pacotes necessários para o Python."
   ]
  },
  {
   "cell_type": "code",
   "execution_count": 40,
   "id": "c9181d89",
   "metadata": {},
   "outputs": [
    {
     "name": "stdout",
     "output_type": "stream",
     "text": [
      "Requirement already satisfied: pandas in c:\\users\\lapei\\anaconda3\\lib\\site-packages (2.2.3)\n",
      "Requirement already satisfied: openpyxl in c:\\users\\lapei\\anaconda3\\lib\\site-packages (3.0.10)\n",
      "Requirement already satisfied: python-dateutil>=2.8.2 in c:\\users\\lapei\\anaconda3\\lib\\site-packages (from pandas) (2.8.2)\n",
      "Requirement already satisfied: pytz>=2020.1 in c:\\users\\lapei\\anaconda3\\lib\\site-packages (from pandas) (2022.7)\n",
      "Requirement already satisfied: tzdata>=2022.7 in c:\\users\\lapei\\anaconda3\\lib\\site-packages (from pandas) (2025.1)\n",
      "Requirement already satisfied: numpy>=1.22.4 in c:\\users\\lapei\\anaconda3\\lib\\site-packages (from pandas) (1.26.4)\n",
      "Requirement already satisfied: et_xmlfile in c:\\users\\lapei\\anaconda3\\lib\\site-packages (from openpyxl) (1.1.0)\n",
      "Requirement already satisfied: six>=1.5 in c:\\users\\lapei\\anaconda3\\lib\\site-packages (from python-dateutil>=2.8.2->pandas) (1.16.0)\n"
     ]
    }
   ],
   "source": [
    "!pip install pandas openpyxl\n",
    "import panda open"
   ]
  },
  {
   "cell_type": "code",
   "execution_count": 44,
   "id": "8beab054",
   "metadata": {},
   "outputs": [],
   "source": [
    "import openpyxl"
   ]
  },
  {
   "cell_type": "code",
   "execution_count": 30,
   "id": "edafb840",
   "metadata": {},
   "outputs": [],
   "source": [
    "#instalando os pacotes que ainda não foram instalados\n",
    "\n",
    "!pip install pyodbc\n",
    "!pip install geopandas\n",
    "!pip install rtree\n",
    "!pip install pygeos\n",
    "!pip install mapclassify\n",
    "!pip install geobr\n",
    "!pip install plotnine\n",
    "!pip install dash\n",
    "!pip install cartopy\n",
    "!pip install geojson\n"
   ]
  },
  {
   "cell_type": "code",
   "execution_count": 31,
   "id": "686144d3",
   "metadata": {},
   "outputs": [],
   "source": [
    "# Modelagem\n",
    "import pandas as pd\n",
    "import numpy as np\n",
    "\n",
    "#execução dremio\n",
    "import pyodbc\n",
    "\n",
    "# Data View\n",
    "import matplotlib.pyplot as plt\n",
    "import seaborn as sns\n",
    "import plotly.express as px\n",
    "from matplotlib.colors import Normalize\n",
    "from matplotlib import cm\n",
    "import matplotlib.ticker as ticker\n",
    "import matplotlib.colors as mcolors\n",
    "import plotnine\n",
    "import dash\n",
    "import dash.dash_table\n",
    "import adjustText\n",
    "import matplotlib.gridspec\n",
    "\n",
    "#Mapas\n",
    "import geopandas as gpd\n",
    "import rtree\n",
    "import pygeos\n",
    "import mapclassify\n",
    "import geobr\n",
    "from matplotlib.ticker import FuncFormatter\n",
    "import cartopy\n",
    "\n",
    "import geojson"
   ]
  },
  {
   "cell_type": "markdown",
   "id": "4a9df8f5",
   "metadata": {},
   "source": [
    "### 1. Definição de escopo\n",
    "---\n",
    "A metodologia tem como objetivo estimar a força de trabalho atual e necessária de cirurgiões dentistas e técnicos e auxilares de saúde bucal para atuação em municípios brasileiros, a nível de atenção primária, em procedimentos de natureza individual, bem como três procedimentos de natureza especializada: endodontia, prótese e periodontia.\n"
   ]
  },
  {
   "cell_type": "markdown",
   "id": "59c61f15",
   "metadata": {},
   "source": [
    "### 2. Análise das necessidades de saúde bucal\n",
    "---\n",
    "A análise da necessidade de saúde bucal (NSB) foi construída a partir de três elementos: distribuição da população por faixa etária (P), prevalência de condições de saúde bucal (H) e procedimentos per capita (S).\n",
    "\n",
    "![image.png](imagens/equacao1_sb.png)\n",
    "\n",
    "Onde:\n",
    "\n",
    "* NSB = Necessidade de saúde bucal é o número de serviços do tipo t destinados ao atendimento de população de faixa etária i e localidade l;\n",
    "* P = População por faixa-etária i de uma localidade l;\n",
    "* H = Prevalência de condições de saúde bucal que levam à necessidade de procedimentos do tipo t por faixa-etária i e dentro de uma localidade l;\n",
    "* S = Procedimentos per capita do tipo t, para cada faixa-etária i e dentro de uma localidade l.\n",
    "\n",
    "### 2.1. Levantando a faixa etária (P)\n",
    "\n",
    "A distribuição por faixa etária foi construída com base em dados do último censo (2022) e estão disponíveis na página do IBGE."
   ]
  },
  {
   "cell_type": "code",
   "execution_count": 55,
   "id": "f6dbd090",
   "metadata": {},
   "outputs": [
    {
     "name": "stdout",
     "output_type": "stream",
     "text": [
      "Unexpected exception formatting exception. Falling back to standard exception\n"
     ]
    },
    {
     "name": "stderr",
     "output_type": "stream",
     "text": [
      "Traceback (most recent call last):\n",
      "  File \"C:\\Users\\lapei\\anaconda3\\lib\\site-packages\\IPython\\core\\interactiveshell.py\", line 3460, in run_code\n",
      "    exec(code_obj, self.user_global_ns, self.user_ns)\n",
      "  File \"C:\\Users\\lapei\\AppData\\Local\\Temp\\ipykernel_17392\\3092996096.py\", line 4, in <module>\n",
      "    pop_brasil = pd.read_excel(caminho1)\n",
      "  File \"C:\\Users\\lapei\\anaconda3\\lib\\site-packages\\pandas\\util\\_decorators.py\", line 211, in wrapper\n",
      "    raise TypeError(msg)\n",
      "  File \"C:\\Users\\lapei\\anaconda3\\lib\\site-packages\\pandas\\util\\_decorators.py\", line 331, in wrapper\n",
      "    stacklevel=find_stack_level(),\n",
      "  File \"C:\\Users\\lapei\\anaconda3\\lib\\site-packages\\pandas\\io\\excel\\_base.py\", line 482, in read_excel\n",
      "    comment: str | None = None,\n",
      "  File \"C:\\Users\\lapei\\anaconda3\\lib\\site-packages\\pandas\\io\\excel\\_base.py\", line 1652, in __init__\n",
      "  File \"C:\\Users\\lapei\\anaconda3\\lib\\site-packages\\pandas\\io\\excel\\_base.py\", line 1525, in inspect_excel_format\n",
      "    \"will be removed in a future version. To read from a \"\n",
      "  File \"C:\\Users\\lapei\\anaconda3\\lib\\site-packages\\pandas\\io\\common.py\", line 865, in get_handle\n",
      "    assert not isinstance(handle, str)\n",
      "FileNotFoundError: [Errno 2] No such file or directory: '../../01_dados/populacao_municipio_censo_completa.xlsx'\n",
      "\n",
      "During handling of the above exception, another exception occurred:\n",
      "\n",
      "Traceback (most recent call last):\n",
      "  File \"C:\\Users\\lapei\\anaconda3\\lib\\site-packages\\IPython\\core\\interactiveshell.py\", line 2057, in showtraceback\n",
      "    stb = self.InteractiveTB.structured_traceback(\n",
      "  File \"C:\\Users\\lapei\\anaconda3\\lib\\site-packages\\IPython\\core\\ultratb.py\", line 1118, in structured_traceback\n",
      "    return FormattedTB.structured_traceback(\n",
      "  File \"C:\\Users\\lapei\\anaconda3\\lib\\site-packages\\IPython\\core\\ultratb.py\", line 1012, in structured_traceback\n",
      "    return VerboseTB.structured_traceback(\n",
      "  File \"C:\\Users\\lapei\\anaconda3\\lib\\site-packages\\IPython\\core\\ultratb.py\", line 865, in structured_traceback\n",
      "    formatted_exception = self.format_exception_as_a_whole(etype, evalue, etb, number_of_lines_of_context,\n",
      "  File \"C:\\Users\\lapei\\anaconda3\\lib\\site-packages\\IPython\\core\\ultratb.py\", line 818, in format_exception_as_a_whole\n",
      "    frames.append(self.format_record(r))\n",
      "  File \"C:\\Users\\lapei\\anaconda3\\lib\\site-packages\\IPython\\core\\ultratb.py\", line 736, in format_record\n",
      "    result += ''.join(_format_traceback_lines(frame_info.lines, Colors, self.has_colors, lvals))\n",
      "  File \"C:\\Users\\lapei\\anaconda3\\lib\\site-packages\\stack_data\\utils.py\", line 145, in cached_property_wrapper\n",
      "    value = obj.__dict__[self.func.__name__] = self.func(obj)\n",
      "  File \"C:\\Users\\lapei\\anaconda3\\lib\\site-packages\\stack_data\\core.py\", line 698, in lines\n",
      "    pieces = self.included_pieces\n",
      "  File \"C:\\Users\\lapei\\anaconda3\\lib\\site-packages\\stack_data\\utils.py\", line 145, in cached_property_wrapper\n",
      "    value = obj.__dict__[self.func.__name__] = self.func(obj)\n",
      "  File \"C:\\Users\\lapei\\anaconda3\\lib\\site-packages\\stack_data\\core.py\", line 649, in included_pieces\n",
      "    pos = scope_pieces.index(self.executing_piece)\n",
      "  File \"C:\\Users\\lapei\\anaconda3\\lib\\site-packages\\stack_data\\utils.py\", line 145, in cached_property_wrapper\n",
      "    value = obj.__dict__[self.func.__name__] = self.func(obj)\n",
      "  File \"C:\\Users\\lapei\\anaconda3\\lib\\site-packages\\stack_data\\core.py\", line 628, in executing_piece\n",
      "    return only(\n",
      "  File \"C:\\Users\\lapei\\anaconda3\\lib\\site-packages\\executing\\executing.py\", line 164, in only\n",
      "    raise NotOneValueFound('Expected one value, found 0')\n",
      "executing.executing.NotOneValueFound: Expected one value, found 0\n"
     ]
    }
   ],
   "source": [
    "# Caminho do arquivo Excel\n",
    "caminho1 = \"../../01_dados/populacao_municipio_censo_completa.xlsx\"\n",
    "\n",
    "pop_brasil = pd.read_excel(caminho1)\n",
    "print(pop_brasil.head())"
   ]
  },
  {
   "cell_type": "code",
   "execution_count": null,
   "id": "0fbf4c50",
   "metadata": {},
   "outputs": [],
   "source": []
  },
  {
   "cell_type": "code",
   "execution_count": null,
   "id": "800a109b",
   "metadata": {},
   "outputs": [],
   "source": []
  },
  {
   "cell_type": "code",
   "execution_count": null,
   "id": "397bca39",
   "metadata": {},
   "outputs": [],
   "source": []
  },
  {
   "cell_type": "code",
   "execution_count": null,
   "id": "38b27535",
   "metadata": {},
   "outputs": [],
   "source": []
  },
  {
   "cell_type": "code",
   "execution_count": null,
   "id": "cb7fab8a",
   "metadata": {},
   "outputs": [],
   "source": []
  },
  {
   "cell_type": "code",
   "execution_count": null,
   "id": "7694d8d3",
   "metadata": {},
   "outputs": [],
   "source": []
  },
  {
   "cell_type": "code",
   "execution_count": null,
   "id": "ca64c164",
   "metadata": {},
   "outputs": [],
   "source": []
  },
  {
   "cell_type": "code",
   "execution_count": null,
   "id": "41d869bd",
   "metadata": {},
   "outputs": [],
   "source": []
  },
  {
   "cell_type": "code",
   "execution_count": null,
   "id": "f2c3301c",
   "metadata": {},
   "outputs": [],
   "source": []
  },
  {
   "cell_type": "code",
   "execution_count": null,
   "id": "218f4dc9",
   "metadata": {},
   "outputs": [],
   "source": []
  },
  {
   "cell_type": "code",
   "execution_count": null,
   "id": "8963873b",
   "metadata": {},
   "outputs": [],
   "source": []
  },
  {
   "cell_type": "code",
   "execution_count": null,
   "id": "23178b6f",
   "metadata": {},
   "outputs": [],
   "source": []
  },
  {
   "cell_type": "code",
   "execution_count": null,
   "id": "6ac08808",
   "metadata": {},
   "outputs": [],
   "source": []
  }
 ],
 "metadata": {
  "kernelspec": {
   "display_name": "Python 3 (ipykernel)",
   "language": "python",
   "name": "python3"
  },
  "language_info": {
   "codemirror_mode": {
    "name": "ipython",
    "version": 3
   },
   "file_extension": ".py",
   "mimetype": "text/x-python",
   "name": "python",
   "nbconvert_exporter": "python",
   "pygments_lexer": "ipython3",
   "version": "3.10.9"
  }
 },
 "nbformat": 4,
 "nbformat_minor": 5
}
